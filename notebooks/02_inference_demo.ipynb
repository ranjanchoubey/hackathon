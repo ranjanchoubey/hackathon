{
 "cells": [
  {
   "cell_type": "markdown",
   "metadata": {},
   "source": [
    "#  Prostate WSI Segmentation - Inference Demo\n",
    "\n",
    "This notebook shows how to use the trained model for inference on new WSI images.\n"
   ]
  },
  {
   "cell_type": "code",
   "execution_count": null,
   "metadata": {},
   "outputs": [],
   "source": [
    "# Setup\n",
    "import sys\n",
    "sys.path.append('../src')\n",
    "\n",
    "from config import InferenceConfig\n",
    "from inference import predict_wsi, generate_test_predictions\n",
    "from utils import visualize_predictions\n",
    "\n",
    "import torch\n",
    "import matplotlib.pyplot as plt"
   ]
  },
  {
   "cell_type": "code",
   "execution_count": null,
   "metadata": {},
   "outputs": [],
   "source": [
    "# Load configuration\n",
    "config = InferenceConfig()\n",
    "device = torch.device('cuda' if torch.cuda.is_available() else 'cpu')\n",
    "print(f\" Using device: {device}\")"
   ]
  },
  {
   "cell_type": "code",
   "execution_count": null,
   "metadata": {},
   "outputs": [],
   "source": [
    "# Example: Predict single WSI\n",
    "from model import SegmentationModel\n",
    "\n",
    "# Load model\n",
    "model = SegmentationModel(num_classes=4, encoder_name=\"resnet34\", pretrained=False)\n",
    "checkpoint = torch.load(config.BEST_MODEL_PATH, map_location=device, weights_only=False)\n",
    "model.load_state_dict(checkpoint['model_state_dict'])\n",
    "model = model.to(device)\n",
    "\n",
    "print(f\" Model loaded! Best IoU: {checkpoint['best_wsi_iou']:.4f}\")"
   ]
  },
  {
   "cell_type": "code",
   "execution_count": null,
   "metadata": {},
   "outputs": [],
   "source": [
    "# Predict on test WSI\n",
    "import glob\n",
    "\n",
    "test_images = glob.glob(str(config.TEST_DIR / \"*.png\"))\n",
    "if test_images:\n",
    "    sample_wsi = test_images[0]\n",
    "    print(f\" Predicting: {sample_wsi}\")\n",
    "    \n",
    "    prediction = predict_wsi(model, sample_wsi, device=device)\n",
    "    \n",
    "    print(f\" Prediction shape: {prediction.shape}\")\n",
    "    print(f\" Classes found: {np.unique(prediction)}\")\n",
    "else:\n",
    "    print(\" No test images found\")"
   ]
  }
 ],
 "metadata": {
  "kernelspec": {
   "display_name": "Python 3",
   "language": "python",
   "name": "python3"
  }
 },
 "nbformat": 4,
 "nbformat_minor": 4
}
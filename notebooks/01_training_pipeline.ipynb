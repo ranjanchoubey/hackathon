{
 "cells": [
  {
   "cell_type": "markdown",
   "metadata": {},
   "source": [
    "# 🚀 Prostate WSI Segmentation - Training Pipeline\n",
    "\n",
    "This notebook demonstrates the complete training pipeline for prostate tissue segmentation.\n",
    "\n",
    "## 📋 Setup Instructions:\n",
    "1. Clone this repository\n",
    "2. Install requirements: `pip install -r requirements.txt`\n",
    "3. Download datasets (or use your own)\n",
    "4. Run this notebook!\n"
   ]
  },
  {
   "cell_type": "code",
   "execution_count": null,
   "metadata": {},
   "outputs": [],
   "source": [
    "# Install requirements if running on Colab\n",
    "import sys\n",
    "if 'google.colab' in sys.modules:\n",
    "    !git clone https://github.com/YOUR_USERNAME/hackathon.git\n",
    "    %cd hackathon\n",
    "    !pip install -r requirements.txt"
   ]
  },
  {
   "cell_type": "code",
   "execution_count": null,
   "metadata": {},
   "outputs": [],
   "source": [
    "# Import required libraries\n",
    "import sys\n",
    "import os\n",
    "sys.path.append('src')\n",
    "\n",
    "from config import TrainingConfig\n",
    "from data_loader import WSIPatchDataset, get_transforms\n",
    "from model import SegmentationModel, CombinedLoss\n",
    "from train import train_model\n",
    "from utils import calculate_mean_iou\n",
    "\n",
    "import torch\n",
    "import glob\n",
    "import matplotlib.pyplot as plt"
   ]
  },
  {
   "cell_type": "code",
   "execution_count": null,
   "metadata": {},
   "outputs": [],
   "source": [
    "# Setup configuration\n",
    "config = TrainingConfig()\n",
    "print(f\"🔧 Device: {config.DEVICE}\")\n",
    "print(f\"📊 Classes: {config.CLASSES}\")\n",
    "print(f\"🎯 Training for {config.EPOCHS} epochs\")"
   ]
  },
  {
   "cell_type": "code",
   "execution_count": null,
   "metadata": {},
   "outputs": [],
   "source": [
    "# Prepare training and validation paths\n",
    "train_images = sorted(glob.glob(str(config.TRAIN_DIR / \"*.png\")))\n",
    "train_images = [img for img in train_images if not img.endswith('_mask.png')]\n",
    "train_masks = [img.replace('.png', '_mask.png') for img in train_images]\n",
    "train_paths = list(zip(train_images, train_masks))\n",
    "\n",
    "val_images = sorted(glob.glob(str(config.VAL_DIR / \"*.png\")))\n",
    "val_images = [img for img in val_images if not img.endswith('_mask.png')]\n",
    "val_masks = [img.replace('.png', '_mask.png') for img in val_images]\n",
    "val_paths = list(zip(val_images, val_masks))\n",
    "\n",
    "print(f\"📊 Training WSIs: {len(train_paths)}\")\n",
    "print(f\"📊 Validation WSIs: {len(val_paths)}\")"
   ]
  },
  {
   "cell_type": "code",
   "execution_count": null,
   "metadata": {},
   "outputs": [],
   "source": [
    "# Start training\n",
    "print(\"🚀 Starting training...\")\n",
    "history, best_iou = train_model(train_paths, val_paths, config)\n",
    "\n",
    "print(f\"\\n🎉 Training completed!\")\n",
    "print(f\"🏆 Best WSI IoU: {best_iou:.4f}\")"
   ]
  },
  {
   "cell_type": "code",
   "execution_count": null,
   "metadata": {},
   "outputs": [],
   "source": [
    "# Plot training history\n",
    "plt.figure(figsize=(15, 5))\n",
    "\n",
    "plt.subplot(1, 3, 1)\n",
    "plt.plot(history['train_loss'], label='Train Loss')\n",
    "plt.plot(history['val_loss'], label='Val Loss')\n",
    "plt.title('Training Loss')\n",
    "plt.legend()\n",
    "\n",
    "plt.subplot(1, 3, 2)\n",
    "plt.plot(history['train_iou'], label='Train IoU')\n",
    "plt.plot(history['val_iou'], label='Val IoU')\n",
    "plt.title('Patch-level IoU')\n",
    "plt.legend()\n",
    "\n",
    "plt.subplot(1, 3, 3)\n",
    "plt.plot(history['wsi_iou'], label='WSI IoU')\n",
    "plt.title('WSI-level IoU')\n",
    "plt.legend()\n",
    "\n",
    "plt.tight_layout()\n",
    "plt.show()"
   ]
  }
 ],
 "metadata": {
  "kernelspec": {
   "display_name": "Python 3",
   "language": "python",
   "name": "python3"
  }
 },
 "nbformat": 4,
 "nbformat_minor": 4
}